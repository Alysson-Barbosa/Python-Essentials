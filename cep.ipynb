{
  "cells": [
    {
      "cell_type": "markdown",
      "source": [
        "## POSTCODE API\n",
        "\n",
        "API to get full address by the postcode."
      ],
      "metadata": {
        "id": "ix_9z7nymOsR"
      }
    },
    {
      "cell_type": "code",
      "execution_count": 2,
      "metadata": {
        "colab": {
          "base_uri": "https://localhost:8080/"
        },
        "id": "2yaj6pfDqoMD",
        "outputId": "c499e997-7bbd-44eb-82ec-2d011d0faebf"
      },
      "outputs": [
        {
          "output_type": "stream",
          "name": "stdout",
          "text": [
            "['cep', 'address', 'state', 'district', 'city', 'ddd']\n",
            "['02737000', 'Rua Sitiantes', 'SP', 'Itaberaba', 'São Paulo', '11']\n"
          ]
        }
      ],
      "source": [
        "import requests\n",
        "import json\n",
        "\n",
        "ceps = requests.get(\"https://cep.awesomeapi.com.br/json/02737000\")\n",
        "ceps_dic = ceps.json()\n",
        "del ceps_dic[\"lat\"]\n",
        "del ceps_dic[\"lng\"]\n",
        "del ceps_dic[\"city_ibge\"]\n",
        "del ceps_dic[\"address_name\"]\n",
        "del ceps_dic[\"address_type\"]\n",
        "print(list(ceps_dic.keys()))\n",
        "print(list(ceps_dic.values()))\n"
      ]
    }
  ],
  "metadata": {
    "colab": {
      "provenance": []
    },
    "kernelspec": {
      "display_name": "Python 3",
      "name": "python3"
    },
    "language_info": {
      "name": "python"
    }
  },
  "nbformat": 4,
  "nbformat_minor": 0
}