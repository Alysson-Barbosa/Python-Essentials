{
 "cells": [
  {
   "cell_type": "code",
   "execution_count": 8,
   "id": "11129396",
   "metadata": {},
   "outputs": [],
   "source": [
    "import smtplib\n",
    "import email.message\n",
    "\n",
    "def send_email():\n",
    "    corpo_email = \"\"\"\n",
    "    <p>Hi</p>\n",
    "    <p>Now you don't need to write this email everyday.</p>\n",
    "    <p>Thanks :)</p>\n",
    "    <p>Alysson Barbosa</p>\n",
    "    \"\"\"\n",
    "\n",
    "    msg = email.message.Message()\n",
    "    msg['Subject'] = \"Email Automático\"\n",
    "    msg['From'] = \"email@email.com\"\n",
    "    msg[\"To\"] = \"email@email.com\"\n",
    "    password = \"1234\"\n",
    "    msg.add_header('Content-Type', 'text/html')\n",
    "    msg.set_payload(corpo_email)\n",
    "    \n",
    "    s = smtplib.SMTP('smtp.gmail.com: 587')\n",
    "    s.starttls()\n",
    "    #Login Credentials for sending the mail\n",
    "    s.login(msg['from'], password)\n",
    "    s.sendmail(msg['from'], [msg['To']], msg.as_string().encode('utf-8'))\n",
    "    print('Email enviado')"
   ]
  },
  {
   "cell_type": "code",
   "execution_count": 9,
   "id": "659c9561",
   "metadata": {},
   "outputs": [
    {
     "name": "stdout",
     "output_type": "stream",
     "text": [
      "Sent!\n"
     ]
    }
   ],
   "source": [
    "enviar_email()"
   ]
  },
  {
   "cell_type": "code",
   "execution_count": null,
   "id": "cde8addd",
   "metadata": {},
   "outputs": [],
   "source": []
  }
 ],
 "metadata": {
  "kernelspec": {
   "display_name": "Python 3 (ipykernel)",
   "language": "python",
   "name": "python3"
  },
  "language_info": {
   "codemirror_mode": {
    "name": "ipython",
    "version": 3
   },
   "file_extension": ".py",
   "mimetype": "text/x-python",
   "name": "python",
   "nbconvert_exporter": "python",
   "pygments_lexer": "ipython3",
   "version": "3.9.7"
  }
 },
 "nbformat": 4,
 "nbformat_minor": 5
}
